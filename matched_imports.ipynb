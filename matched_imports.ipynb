{
 "cells": [
  {
   "cell_type": "code",
   "execution_count": 1,
   "metadata": {},
   "outputs": [],
   "source": [
    "import pandas as pd\n",
    "import numpy as np\n",
    "import re\n",
    "from homologaciones.exportadores import exportadores_dict, importadores_dict"
   ]
  },
  {
   "cell_type": "code",
   "execution_count": 2,
   "metadata": {},
   "outputs": [],
   "source": [
    "imports = pd.read_csv('matched_imports.csv')"
   ]
  },
  {
   "cell_type": "code",
   "execution_count": 3,
   "metadata": {},
   "outputs": [],
   "source": [
    "ruta_medicamentos = 'C:/Users/juan-/Downloads/pharma/Bases/20220516_MEDICAMENTOS ONCOLOGICOS BIOLOGICOS_PW_AP_PW.xlsx'\n",
    "MedicamentosDB = pd.read_excel(ruta_medicamentos, sheet_name='BIOLOGICOS')"
   ]
  },
  {
   "cell_type": "markdown",
   "metadata": {},
   "source": [
    "## Importadores y Exportadores Homologación."
   ]
  },
  {
   "cell_type": "code",
   "execution_count": 24,
   "metadata": {},
   "outputs": [
    {
     "data": {
      "text/plain": [
       "200"
      ]
     },
     "execution_count": 24,
     "metadata": {},
     "output_type": "execute_result"
    }
   ],
   "source": [
    "importadores = imports['Importador'].value_counts()\n",
    "importadores = sorted(list(dict(importadores).keys()))\n",
    "len(importadores)"
   ]
  },
  {
   "cell_type": "code",
   "execution_count": null,
   "metadata": {},
   "outputs": [],
   "source": [
    "exportadores = imports['Exportador'].value_counts()\n",
    "exportadores = sorted(list(dict(exportadores).keys()))\n",
    "exportadores"
   ]
  },
  {
   "cell_type": "markdown",
   "metadata": {},
   "source": [
    "## funciones"
   ]
  },
  {
   "cell_type": "markdown",
   "metadata": {},
   "source": [
    "### funciones de normalizacion y homologacion"
   ]
  },
  {
   "cell_type": "code",
   "execution_count": 9,
   "metadata": {},
   "outputs": [],
   "source": [
    "def homologar_importador(importador: str) -> str:\n",
    "    \"\"\"\"\"\"\n",
    "    try:\n",
    "        importador_h = importadores_dict[importador] if importador != 'sin informacion' else 'sin informacion'\n",
    "    except Exception as e:\n",
    "        print(\"error en: \",importador,\" con el error\", e)\n",
    "        importador_h = 'Error'\n",
    "    \n",
    "    return importador_h"
   ]
  },
  {
   "cell_type": "code",
   "execution_count": 4,
   "metadata": {},
   "outputs": [],
   "source": [
    "def homologar_exportador(exportador: str) -> str:\n",
    "    \"\"\"\"\"\"\n",
    "    try:\n",
    "        exportador_h = exportadores_dict[exportador] if exportador != 'sin informacion' else 'sin informacion'\n",
    "    except Exception as e:\n",
    "        print(\"error en: \",exportador,\" con el error\", e)\n",
    "        exportador_h = 'Error'\n",
    "    \n",
    "    return exportador_h"
   ]
  },
  {
   "cell_type": "code",
   "execution_count": 5,
   "metadata": {},
   "outputs": [],
   "source": [
    "def normalizar(text: str) -> str:\n",
    "    \"\"\"retorna la cadena del parametro sin acentos, en minuscula y quita espacios al principio o fin de la cadena\"\"\"\n",
    "    a,b = 'áéíóúüÁÉÍÓÚÜ','aeiouuAEIOUU'\n",
    "    trans = str.maketrans(a,b)\n",
    "    try:\n",
    "        text_normalized = text.translate(trans).lower().strip()\n",
    "    except:\n",
    "        print(f\"error normalizando: {text}\")\n",
    "        text_normalized = \"Error\"\n",
    "    return text_normalized"
   ]
  },
  {
   "cell_type": "markdown",
   "metadata": {},
   "source": [
    "### funciones de clasificacion"
   ]
  },
  {
   "cell_type": "code",
   "execution_count": 7,
   "metadata": {},
   "outputs": [],
   "source": [
    "def calc_valor_unitario(valor_total, unidades):\n",
    "  \"\"\"calcular valor_unitario dividiendo valor_total entre el número de unidades(previamente encontrado en descripcion comercial)\n",
    "     return valor_unitario\"\"\"\n",
    "  pass\n",
    "\n",
    "def comprobar():\n",
    "  \"\"\"\n",
    "    calc_valor_unitario(valor_total, unidades)\n",
    "    este nuevo valor_unitario se debe contrastar contra el valor_unitario de medicamentos de la misma marca para\n",
    "    verificar que no sea un outlier:\n",
    "      TipoI = producto_terminado\n",
    "      si es un outlier se clasificará como:\n",
    "        TipoII = EstandarReferencia\n",
    "      si no es outlier\n",
    "        TipoII = Valor comercial\n",
    "  \"\"\"\n",
    "  pass\n",
    "\n",
    "def buscar_pres_medi_en_desc_comer():\n",
    "  \"\"\"buscar presentacion de medicamento en descripcion comercial:\n",
    "      buscar unidades, tipo_unidad, concentracion, unidad_de_concentracion \n",
    "      en la descripcion_comercial.\n",
    "      \n",
    "      return unidad, tipo_unidad, concentracion, unidad_de_concentracion(25,pzas,50,mg) \"\"\"\n",
    "  pass \n",
    "\n",
    "def comprobar_principio_activo():\n",
    "  \"\"\"\n",
    "  buscar_pres_medi_en_desc_comer()\n",
    "  si estas están en su descripcion_comercial entonces no son PrincipioActivo AÚN\n",
    "    return False\n",
    "  si estas NO están en su descripcion_comercial:\n",
    "    entonces podemos clasificarlas como PrincipioActivo\n",
    "    return True\n",
    "  \"\"\"\n",
    "  pass\n",
    "\n",
    "def clasificar(row):\n",
    "    \"\"\"\n",
    "    recibe cada fila del dataframe en su columna \"descripcion_comercial\",\n",
    "    tratando de tipificarla:\n",
    "    1)\n",
    "    si estandar de referencia en descripcion_comercial\n",
    "      tipo II = estander de referencia\n",
    "    si unidad es igual a KG,G,L,MLL\n",
    "        sí comprobar_principio_activo():\n",
    "          tipo I = principio activo\n",
    "        sí no:\n",
    "          2) comrpobar_si_ER_o_VC()\n",
    "    2)\n",
    "         \n",
    "    \"\"\"\n",
    "    pass\n",
    "    "
   ]
  },
  {
   "cell_type": "code",
   "execution_count": 6,
   "metadata": {},
   "outputs": [],
   "source": [
    "def clasify_er_t2_by_keywords(desc_comer : str) -> str:\n",
    "    \"\"\"looks for keywords in descripcion_comercial column, if the keywords are\n",
    "    contained is clasify as estandar de referencia(er) on its tipoII\"\"\"\n",
    "    if (\"estandar de referencia\" in desc_comer) or (\"sustancia de referencia\" in desc_comer) or (\"reference standard\" in desc_comer) or \\\n",
    "       (\"estandares de refrencia\" in desc_comer)  or (\"muestra\" in desc_comer)  or (\"placebo\" in desc_comer): \n",
    "        return \"ER\"\n",
    "    else:\n",
    "        return None"
   ]
  },
  {
   "cell_type": "code",
   "execution_count": 7,
   "metadata": {},
   "outputs": [],
   "source": [
    "def clasify_pa_t1_by_tipounidad(t_u : str) -> str:\n",
    "    \"\"\"looks in its tipo_unidad columns if g,kg,l,ml are contained\n",
    "    it will be clasified as principio_activo(PA) on its tipoI\"\"\"\n",
    "    if ('G'==t_u) or ('KG'==t_u) or ('L'==t_u) or ('ML'==t_u):\n",
    "        return 'PA'\n",
    "    else:\n",
    "        return None"
   ]
  },
  {
   "cell_type": "markdown",
   "metadata": {},
   "source": [
    "### funcion de llenado de datos"
   ]
  },
  {
   "cell_type": "code",
   "execution_count": 161,
   "metadata": {},
   "outputs": [],
   "source": [
    "#MedicamentosDB['FORMA FARMA'].value_counts() #UNIDAD CONCENTRACION(mg,µG)\tFORMA FARMA(Solución Inyectable,Comprimidos, Tabletas, Capsulas, Solución oral ) \n",
    "#caja, frasco, ampula, frasco ampula\n",
    "UNIDAD_CONCENTRACION = ['mg','µG']\n",
    "FORMA_FARMA = ['tabletas', 'capsulas','comprimidos','solucion inyectable', 'solucion oral']"
   ]
  },
  {
   "cell_type": "code",
   "execution_count": 13,
   "metadata": {},
   "outputs": [],
   "source": [
    "def get_concentracion_from_desc_comer(row):\n",
    "    desc_comer = row['descripcion_comercial']\n",
    "    #------------------------------4------------------------------#\n",
    "    #ninlaro (ixazomib) caja colectiva con 3 cajas con una capsula de 3.5 mg (medicamento de uso humano) \n",
    "    expresion_0 = '\\d\\s*cajas con una capsula de \\d+\\.?\\d*\\s*mg'\n",
    "    #afinitor 10 mg  30 comprimidos (everolimus)\n",
    "    expresion_1 = '\\d+\\.?\\d*\\s*mg\\s*\\d{1,3}\\s*(tabletas|tab|capsulas|comprimidos|solucion inyectable|solucion oral|ge)'\n",
    "    #giotrif 30mg (afatinib) 30 tabletas (medicamento de uso humano)\n",
    "    expresion_1_1 = '\\d+\\.?\\d*\\s*mg.{0,40}\\d{1,4}\\s*(tabletas|capsulas|comprimido|solucion inyectable|solucion oral)' #menos exacta que la expresion_1\n",
    "    #prycel (dasatinib) frasco con  60 tabletas de 70 mg (medicamento de uso humano)\n",
    "    expresion_2 = '\\d{1,3}\\s*(tablet|capsulas|comprimidos|solucion inyectable|viales|solucion oral).{0,35}\\d+\\.?\\d*\\s*(mg|gramos)'#se modificó para que detecte gramos y viales\n",
    "    #tabletas.{0,5}\\d+\\.?\\d*\\smg.{0,5}\\d+\n",
    "    expresion_2_2 = 'tabletas.{0,5}\\d+\\.?\\d*\\smg.{0,5}\\d+'#Nueva\n",
    "    #------------------------------3------------------------------#\n",
    "    #avastin  100 mg/4 ml solucion inyectable (bevacizumab)\n",
    "    expresion_soluciones = '\\d+\\.?\\d*\\s*mg.{0,30}\\s*(solucion inyectable|solucion oral)'\n",
    "    #mvasi (bevacizumab) ampula con 100 mg/ 4.0 ml (medicamento de uso humano)\n",
    "    expresion_4 = '(frasco ampula|vial|ampula|jeringa)\\s*.{0,15}\\d+\\.?\\d*\\s*mg'\n",
    "    #ninlaro (ixazomib) caja colectiva con 3 cajas con una capsula de 2.3 mg (medicamento de uso humano)\n",
    "    expresion_4_2 = '(1|un|una)*\\s*(capsu|capsula|tabletas).{0,5}\\d+\\.?\\d*\\s*mg'\n",
    "    #kadcyla 100mg frasco ampula (trastuzumab emtansina)\n",
    "    expresion_6 = '\\d+\\.?\\d*\\s*mg.{0,18}(frasco ampula|vial|ampula|jeringa)'\n",
    "    #medicamento de uso humano vitrakvi (larotrectinib 100mg)capsulas\n",
    "    expresion_7 = '\\d+\\.?\\d*\\s*mg\\)*capsulas'\n",
    "    #tarceva 100 mg comprimidos  (erlotinib)\n",
    "    expresion_3 = '\\d+\\.?\\d*\\s*mg\\s*(tabletas|tablet|capsul|comprimidos|solucion inyectable|solucion oral)'\n",
    "    #------------------------------2------------------------------#\n",
    "    #kyprolis 60mg (carfilzomib) (medicamento de uso humano)\n",
    "    expresion_5 = '\\d+\\.?\\d*\\s*mg'\n",
    "    #vial solucion estabilizadora iv para blinatumomab caja con 12 viales\n",
    "    expresion_5_2 = '\\d+\\s*(tabletas|tab|capsulas|capsula|comprimidos|solucion inyectable|solucion oral|vial)'\n",
    "    #brigatinib (alunbring)(taqbletas)\n",
    "    expresion_s_ff = '(tabletas|tab|capsulas|capsula|comprimidos|solucion inyectable|solucion oral|vial)'\n",
    "\n",
    "    if not isinstance(desc_comer, str):\n",
    "        return [np.nan, np.nan,np.nan, np.nan]\n",
    "     #----------------------------------------4--------------------------------------#\n",
    "    match = re.search(expresion_0, desc_comer)#'\\d+\\.?\\d*\\s*mg\\s*\\d{1,3}\\s*(tabletas|tab|capsulas|comprimidos|solucion inyectable|solucion oral)'\n",
    "    if match:#10 mg  30 comprimidos\n",
    "        info = match.group()\n",
    "        c_uc =  re.search(\"\\d+\\.?\\d*\\s*mg\", info).group()\n",
    "        concentracion = re.search(\"\\d+\\.?\\d*\", c_uc).group()\n",
    "        unidad_concentracion = \"mg\"\n",
    "        p_ff = re.search(\"\\d\\s*cajas\", info).group()\n",
    "        presentacion =  re.search(\"\\d{1,3}\", p_ff).group()\n",
    "        forma_farma = 'capsulas'\n",
    "        return [concentracion, unidad_concentracion, presentacion, forma_farma]\n",
    "\n",
    "    match = re.search(expresion_1, desc_comer)#'\\d+\\.?\\d*\\s*mg\\s*\\d{1,3}\\s*(tabletas|tab|capsulas|comprimidos|solucion inyectable|solucion oral)'\n",
    "    if match:#10 mg  30 comprimidos\n",
    "        info = match.group()\n",
    "        c_uc =  re.search(\"\\d+\\.?\\d*\\s*mg\", info).group()\n",
    "        concentracion = re.search(\"\\d+\\.?\\d*\", c_uc).group()\n",
    "        unidad_concentracion = \"mg\"\n",
    "        p_ff = re.search(\"\\d{1,3}\\s*(tabletas|tab|capsulas|comprimidos|solucion inyectable|solucion oral|ge)\", info).group()\n",
    "        presentacion =  re.search(\"\\d{1,3}\", p_ff).group()\n",
    "        forma_farma = re.search(\"(tabletas|tab|capsulas|comprimidos|solucion inyectable|solucion oral|ge)\", p_ff).group()\n",
    "        forma_farma = 'tabletas' if forma_farma == 'tab' else forma_farma\n",
    "        forma_farma = 'sff' if forma_farma == 'ge' else forma_farma\n",
    "        return [concentracion, unidad_concentracion, presentacion, forma_farma]\n",
    "\n",
    "    match = re.search(expresion_1_1, desc_comer)#'\\d+\\.?\\d*\\s*mg.{0,40}\\d{1,4}\\s*(tabletas|capsulas|comprimidos|solucion inyectable|solucion oral)'\n",
    "    if match:#100 mg/4 ml solucion inyectable\n",
    "        info = match.group()\n",
    "        c_uc =  re.search(\"\\d+\\.?\\d*\\s*mg\", info).group()\n",
    "        concentracion = re.search(\"\\d+\\.?\\d*\", c_uc).group()\n",
    "        unidad_concentracion = \"mg\"\n",
    "        p_ff = re.search(\"\\d{1,4}\\s*(tabletas|capsulas|comprimido|solucion inyectable|solucion oral)\", info).group()\n",
    "        presentacion =  re.search(\"\\d{1,4}\", p_ff).group()\n",
    "        forma_farma = re.search(\"(tabletas|capsulas|comprimido|solucion inyectable|solucion oral)\", p_ff).group()\n",
    "        forma_farma = 'comprimidos' if  'comrpimido' in forma_farma else forma_farma\n",
    "        return [concentracion, unidad_concentracion, presentacion, forma_farma]\n",
    "\n",
    "    match = re.search(expresion_2, desc_comer)#'\\d{1,3}\\s*(tablet|capsulas|comprimidos|solucion inyectable|viales|solucion oral).{0,35}\\d+\\.?\\d*\\s*(mg|gramos)'\n",
    "    if match:#60 capsulas de 250mg\n",
    "        info = match.group()\n",
    "        c_uc =  re.search(\"\\d+\\.?\\d*\\s*(mg|gramos)\", info).group()\n",
    "        concentracion = re.search(\"\\d+\\.?\\d*\", c_uc).group()\n",
    "        unidad_concentracion = re.search(\"(mg|gramos)\", c_uc).group()\n",
    "        p_ff = re.search(\"\\d{1,3}\\s*(tablet|capsulas|comprimidos|solucion inyectable|viales|solucion oral)\", info).group()\n",
    "        presentacion = re.search(\"\\d{1,3}\", p_ff).group()\n",
    "        forma_farma = re.search(\"(tablet|capsulas|comprimidos|solucion inyectable|viales|solucion oral)\", p_ff).group()\n",
    "        forma_farma = 'tabletas' if 'tablet' in forma_farma else forma_farma\n",
    "        return [concentracion, unidad_concentracion, presentacion, forma_farma]\n",
    "\n",
    "    match = re.search(expresion_2_2, desc_comer) #'tabletas.{0,5}\\d+\\.?\\d*\\smg.{0,5}\\d+'\n",
    "    if match:#tabletas de 250 mg con 30 \n",
    "        info = match.group()\n",
    "        c_uc =  re.search(\"\\d+\\.?\\d*\\s*mg\", info).group()\n",
    "        concentracion = re.search(\"\\d+\\.?\\d*\", c_uc).group()\n",
    "        unidad_concentracion = 'mg'\n",
    "        p_ff = re.search(\"con\\s*\\d{1,3}\", info).group()\n",
    "        presentacion = re.search(\"\\d{1,3}\", p_ff).group()\n",
    "        forma_farma = 'tabletas'\n",
    "        return [concentracion, unidad_concentracion, presentacion, forma_farma]\n",
    "    \n",
    "    #----------------------------------------3--------------------------------------#\n",
    "    match = re.search(expresion_3, desc_comer)#'\\d+\\.?\\d*\\s*mg\\s*(tabletas|tablet|capsul|comprimidos|solucion inyectable|solucion oral)'\n",
    "    if match:#250 mg tabletas\n",
    "        info = match.group()\n",
    "        numeros =  re.findall(\"\\d+\\.?\\d*\", info)\n",
    "        concentracion = numeros[0]\n",
    "        unidad_concentracion = 'mg'\n",
    "        presentacion = 'sp'\n",
    "        forma_farma = re.search(\"(tabletas|tablet|capsul|comprimidos|solucion inyectable|solucion oral)\", info).group()\n",
    "        forma_farma = 'tabletas' if forma_farma == 'tablet' else forma_farma\n",
    "        forma_farma = 'capsulas' if 'capsul' in forma_farma else forma_farma\n",
    "        return [concentracion, unidad_concentracion, presentacion, forma_farma]\n",
    "\n",
    "    match = re.search(expresion_soluciones, desc_comer)#'\\d+\\.?\\d*\\s*mg.{0,30}\\s*(solucion inyectable|solucion oral)'\n",
    "    if match:#100 mg/4 ml solucion inyectable\n",
    "        info = match.group()\n",
    "        concentracion = re.search(\"\\d+\\.?\\d*\", info).group()\n",
    "        unidad_concentracion = 'mg'\n",
    "        presentacion = '1'\n",
    "        forma_farma = re.search(\"(tabletas|tab|capsulas|comprimidos|solucion inyectable|solucion oral)\", info).group()\n",
    "        return [concentracion, unidad_concentracion, presentacion, forma_farma]\n",
    "    \n",
    "    match = re.search(expresion_4, desc_comer)#'(frasco ampula|vial|ampula|jeringa)\\s*.{0,15}\\d+\\.?\\d*\\s*mg'\n",
    "    if match:#ampula con 100 mg  \n",
    "        info = match.group()\n",
    "        c_uc = re.search(\"\\d+\\.?\\d*\\s*mg\", info).group()\n",
    "        concentracion = re.search(\"\\d+\\.?\\d*\", c_uc).group()\n",
    "        unidad_concentracion = 'mg'\n",
    "        presentacion = '1'\n",
    "        forma_farma = re.search(\"(frasco ampula|vial|ampula|jeringa)\", info).group()\n",
    "        return [concentracion, unidad_concentracion, presentacion, forma_farma]\n",
    "\n",
    "    match = re.search(expresion_4_2, desc_comer)#'(1|un|una)*\\s*(capsu|capsula|tabletas).{0,5}\\d+\\.?\\d*\\s*mg'\n",
    "    if match:#una capsula de 2.3 mg\n",
    "        info = match.group()\n",
    "        c_uc =  re.search(\"\\d+\\.?\\d*\\s*mg\", info).group()\n",
    "        concentracion = re.search(\"\\d+\\.?\\d*\", c_uc).group()\n",
    "        unidad_concentracion = \"mg\"\n",
    "        p_ff = re.search(\"(1|un|una)*\\s*(capsu|capsula|tabletas)\", info).group()\n",
    "        presentacion =  re.search(\"(1|un|una)\", p_ff)\n",
    "        forma_farma = re.search(\"(capsu|capsula|tabletas)\", p_ff).group()\n",
    "        forma_farma = 'capsulas' if (forma_farma == 'capsu' or forma_farma == 'capsula') else forma_farma\n",
    "        presentacion = '1' if presentacion else 'sp'\n",
    "        caracteristicas = 4 if presentacion == '1' else 3\n",
    "        return [concentracion, unidad_concentracion, presentacion, forma_farma]\n",
    "\n",
    "    match = re.search(expresion_6, desc_comer)#\\d+\\.?\\d*\\s*mg.{0,10}(frasco ampula|vial|ampula|jeringa)\n",
    "    if match:#100mg frasco ampula #120 mg/ 2.4 ml frasco ampula\n",
    "        info = match.group()\n",
    "        c_uc =  re.search(\"\\d+\\.?\\d*\\s*mg\", info).group()\n",
    "        concentracion = re.search(\"\\d+\\.?\\d*\", c_uc).group()\n",
    "        unidad_concentracion = \"mg\"\n",
    "        presentacion = '1'\n",
    "        forma_farma = re.search(\"(frasco ampula|vial|ampula|jeringa)\", info).group()\n",
    "        return [concentracion, unidad_concentracion, presentacion, forma_farma]\n",
    "    \n",
    "    match = re.search(expresion_7, desc_comer)#\\d+\\.?\\d*\\s*mg\\)*capsulas\n",
    "    if match: #100mg)capsulas\n",
    "        info = match.group()\n",
    "        concentracion = re.search(\"\\d+\\.?\\d*\", info).group()\n",
    "        unidad_concentracion = 'mg'\n",
    "        presentacion = 'sp'\n",
    "        forma_farma = 'capsulas'\n",
    "        return [concentracion, unidad_concentracion, presentacion, forma_farma]\n",
    "   \n",
    "    #----------------------------------------2--------------------------------------#\n",
    "    match = re.search(expresion_5, desc_comer)#\\d+\\.?\\d*\\s*mg\n",
    "    if match:#250 mg\n",
    "        info = match.group()\n",
    "        concentracion =  re.search(\"\\d+\\.?\\d*\", info).group()\n",
    "        unidad_concentracion = 'mg'\n",
    "        presentacion = 'sp'\n",
    "        forma_farma = 'sff'\n",
    "        return [concentracion, unidad_concentracion, presentacion, forma_farma]\n",
    "    \n",
    "    match = re.search(expresion_5_2, desc_comer)#\\d+\\s*(tabletas|tab|capsulas|capsula|comprimidos|solucion inyectable|solucion oral|vial)\n",
    "    if match:#12 viales\n",
    "        info = match.group()\n",
    "        concentracion = 'sc'\n",
    "        unidad_concentracion = 'suc'\n",
    "        presentacion = re.search(\"\\d+\", info).group()\n",
    "        forma_farma = re.search(\"(tabletas|tab|capsulas|capsula|comprimidos|solucion inyectable|solucion oral|vial)\", info).group()\n",
    "        forma_farma = 'tabletas' if forma_farma == 'tab' else forma_farma\n",
    "        forma_farma = 'capsulas' if 'capsul' in forma_farma else forma_farma\n",
    "        return [concentracion, unidad_concentracion, presentacion, forma_farma]\n",
    "    \n",
    "    #----------------------------------------1--------------------------------------#\n",
    "    match = re.search(expresion_s_ff, desc_comer)#(tabletas|taqbletas|tab|capsulas|capsula|comprimidos|solucion inyectable|solucion oral|vial)\n",
    "    if match:#taqbletas\n",
    "        info = match.group()\n",
    "        concentracion = 'sc'\n",
    "        unidad_concentracion = 'suc'\n",
    "        presentacion = 'sp'\n",
    "        forma_farma = match.group()\n",
    "        forma_farma = 'tabletas' if ('tab' in forma_farma or forma_farma == 'taqbletas') else forma_farma\n",
    "        forma_farma = 'capsulas' if 'capsul' in forma_farma else forma_farma\n",
    "        return [concentracion, unidad_concentracion, presentacion, forma_farma]\n",
    "\n",
    "    return [np.nan, np.nan, np.nan, np.nan]"
   ]
  },
  {
   "cell_type": "markdown",
   "metadata": {},
   "source": [
    "## Normalizando Importadores y Exportadores"
   ]
  },
  {
   "cell_type": "code",
   "execution_count": 10,
   "metadata": {},
   "outputs": [],
   "source": [
    "imports['Importador'].fillna('sin informacion', inplace=True)\n",
    "imports['Exportador'].fillna('sin informacion', inplace=True)\n",
    "imports['importador_h'] = imports['Importador'].apply(homologar_importador)\n",
    "imports['exportador_h'] = imports['Exportador'].apply(homologar_exportador)\n",
    "#se homologa porque se me olvidó homologar antes los exportadores e importadores y al concatenarlos con los paises que vienenen normalizados se veian tal que asi: AZTRAZENECA mexico\n",
    "imports['importador_h'] = imports['importador_h'].apply(normalizar)\n",
    "imports['exportador_h'] = imports['exportador_h'].apply(normalizar)\n",
    "#se concatena el exportador mas el pais de origen y compra respectivamente\n",
    "imports['exportador_h_po'] = imports.apply(lambda row: row['exportador_h'] + ' ' + row['pais_origen_h'] if row['exportador_h'] != 'sin informacion' else 'sin informacion',axis=1)\n",
    "imports['exportador_h_pc'] = imports.apply(lambda row: row['exportador_h'] + ' ' + row['pais_compra_h'] if row['exportador_h'] != 'sin informacion' else 'sin informacion',axis=1)"
   ]
  },
  {
   "cell_type": "markdown",
   "metadata": {},
   "source": [
    "## Normalizando Medicamentos"
   ]
  },
  {
   "cell_type": "code",
   "execution_count": 11,
   "metadata": {},
   "outputs": [],
   "source": [
    "MedicamentosDB['MEDICAMENTO'] = MedicamentosDB['MEDICAMENTO'].apply(normalizar)\n",
    "MedicamentosDB['NOMBRE COMERCIAL'] = MedicamentosDB['NOMBRE COMERCIAL'].apply(normalizar)\n",
    "MedicamentosDB['FORMA FARMA'] = MedicamentosDB['FORMA FARMA'].apply(normalizar)"
   ]
  },
  {
   "cell_type": "markdown",
   "metadata": {},
   "source": [
    "## llenado de datos con NM"
   ]
  },
  {
   "cell_type": "code",
   "execution_count": 11,
   "metadata": {},
   "outputs": [],
   "source": [
    "#creacion de columnas para ir detectando cambios y más\n",
    "imports['concentracion'] = ''\n",
    "imports['unidad_concentracion'] = ''\n",
    "imports['cnis'] = ''\n",
    "imports['status_medicamento'] = ''\n",
    "imports['presentacion'] = ''\n",
    "imports['forma_farma'] = ''\n",
    "imports['nombre_medicamento'] = ''\n",
    "imports['empresa'] = ''\n",
    "imports['unidosis'] = ''\n",
    "imports['tipoI'] = ''\n",
    "imports['tipoII'] = ''\n",
    "imports['c_r_c_llenado_datos'] = ''"
   ]
  },
  {
   "cell_type": "markdown",
   "metadata": {},
   "source": [
    "## Clasificación tipo 1"
   ]
  },
  {
   "cell_type": "code",
   "execution_count": 12,
   "metadata": {},
   "outputs": [],
   "source": [
    "imports['tipoII'] = imports['descripcion_comercial'].apply(clasify_er_t2_by_keywords)\n",
    "imports['tipoI'] = imports['tipo_unidad'].apply(clasify_pa_t1_by_tipounidad)"
   ]
  },
  {
   "cell_type": "code",
   "execution_count": null,
   "metadata": {},
   "outputs": [],
   "source": [
    "unidades = {\n",
    "'PZA':'pieza',\n",
    "'CAJ':'caja',\n",
    "'BOT':'botella',\n",
    "'JGO':'juego',\n",
    "'L':'litro',\n",
    "'MLL':'mililitro',\n",
    "'G':'gramos',      \n",
    "'KG':'kilogramos'\n",
    "}\n",
    "imports['tipo_unidad'].value_counts(dropna=False)"
   ]
  },
  {
   "cell_type": "markdown",
   "metadata": {},
   "source": [
    "## LLenado de presentación farmacologica"
   ]
  },
  {
   "cell_type": "code",
   "execution_count": 14,
   "metadata": {},
   "outputs": [],
   "source": [
    "imports[['concentracion','unidad_concentracion','presentacion','forma_farma']] = imports.apply(get_concentracion_from_desc_comer, axis=1, result_type='expand')"
   ]
  },
  {
   "cell_type": "code",
   "execution_count": 18,
   "metadata": {},
   "outputs": [],
   "source": [
    "#full imports selected columns\n",
    "imports[['tipo_unidad','unidades','descripcion_comercial','nombre','marca','concentracion','unidad_concentracion','presentacion','forma_farma','tipoI','tipoII']].to_csv('coercion.csv')"
   ]
  },
  {
   "cell_type": "code",
   "execution_count": 15,
   "metadata": {},
   "outputs": [],
   "source": [
    "#imports COMPLETE only with concentracion\n",
    "imports[~imports['concentracion'].isna()].to_csv('cp_complete.csv')"
   ]
  },
  {
   "cell_type": "code",
   "execution_count": 20,
   "metadata": {},
   "outputs": [],
   "source": [
    "#imports only with concentracion\n",
    "imports[['unidades','tipo_unidad','nombre_y_marca','nombre','marca','descripcion_comercial','presentacion','forma_farma','concentracion','unidad_concentracion','tipoI','tipoII']][~imports['concentracion'].isna()].to_csv('cp.csv')"
   ]
  },
  {
   "cell_type": "code",
   "execution_count": 21,
   "metadata": {},
   "outputs": [],
   "source": [
    "#imports only without concentracion\n",
    "imports[['unidades','tipo_unidad','nombre_y_marca','nombre','marca','descripcion_comercial','presentacion','forma_farma','concentracion','unidad_concentracion','tipoI','tipoII']][imports['concentracion'].isna()].to_csv('sp.csv')"
   ]
  },
  {
   "cell_type": "code",
   "execution_count": null,
   "metadata": {},
   "outputs": [],
   "source": [
    "#sin sp sin sff y sin ningun dato vacio\n",
    "imports[['forma_farma','concentracion','unidad_concentracion','presentacion']][(imports['presentacion']!='sp') & (imports['forma_farma']!='sff')&(imports['nombre_y_marca']=='NM')].dropna(how='any')"
   ]
  },
  {
   "cell_type": "code",
   "execution_count": 22,
   "metadata": {},
   "outputs": [
    {
     "data": {
      "text/plain": [
       "(3187, 32)"
      ]
     },
     "execution_count": 22,
     "metadata": {},
     "output_type": "execute_result"
    }
   ],
   "source": [
    "imports[imports['concentracion'].isna()].shape  #98"
   ]
  }
 ],
 "metadata": {
  "interpreter": {
   "hash": "528daa9c17e0838872f5230eb6041b8593cbc499262be974ac852737f566656b"
  },
  "kernelspec": {
   "display_name": "Python 3.9.0 ('entorno': venv)",
   "language": "python",
   "name": "python3"
  },
  "language_info": {
   "codemirror_mode": {
    "name": "ipython",
    "version": 3
   },
   "file_extension": ".py",
   "mimetype": "text/x-python",
   "name": "python",
   "nbconvert_exporter": "python",
   "pygments_lexer": "ipython3",
   "version": "3.9.0"
  },
  "orig_nbformat": 4
 },
 "nbformat": 4,
 "nbformat_minor": 2
}
