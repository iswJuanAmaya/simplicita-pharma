{
 "cells": [
  {
   "cell_type": "code",
   "execution_count": 1,
   "metadata": {},
   "outputs": [],
   "source": [
    "import pandas as pd\n",
    "import numpy as np"
   ]
  },
  {
   "cell_type": "markdown",
   "metadata": {},
   "source": [
    "### Creating DF's"
   ]
  },
  {
   "cell_type": "code",
   "execution_count": 2,
   "metadata": {},
   "outputs": [],
   "source": [
    "ruta_imports = 'C:/Users/juan-/Downloads/pharma/Bases/20220517_BD Imports Fracciones Biologicos.xlsx'\n",
    "importsDB = pd.read_excel(ruta_imports)"
   ]
  },
  {
   "cell_type": "code",
   "execution_count": 3,
   "metadata": {},
   "outputs": [],
   "source": [
    "ruta_medicamentos = 'C:/Users/juan-/Downloads/pharma/Bases/20220516_MEDICAMENTOS ONCOLOGICOS BIOLOGICOS_PW_AP_PW.xlsx'\n",
    "MedicamentosDB = pd.read_excel(ruta_medicamentos, sheet_name='BIOLOGICOS')"
   ]
  },
  {
   "cell_type": "code",
   "execution_count": 4,
   "metadata": {},
   "outputs": [],
   "source": [
    "imports = importsDB.copy()\n",
    "medicines = MedicamentosDB.copy()"
   ]
  },
  {
   "cell_type": "markdown",
   "metadata": {},
   "source": [
    "### Functions"
   ]
  },
  {
   "cell_type": "code",
   "execution_count": 5,
   "metadata": {},
   "outputs": [],
   "source": [
    "def normalizar(text: str) -> str:\n",
    "    \"\"\"retorna la cadena del parametro sin acentos, en minuscula y quita espacios al principio o fin de la cadena\"\"\"\n",
    "    a,b = 'áéíóúüÁÉÍÓÚÜ','aeiouuAEIOUU'\n",
    "    trans = str.maketrans(a,b)\n",
    "    try:\n",
    "        text_normalized = text.translate(trans).lower().strip()\n",
    "    except:\n",
    "        print(f\"error normalizando: {text}\")\n",
    "        text_normalized = \"Error\"\n",
    "    return text_normalized"
   ]
  },
  {
   "cell_type": "code",
   "execution_count": 6,
   "metadata": {},
   "outputs": [],
   "source": [
    "def normalizar_regimen(text: str) -> str:\n",
    "    \"\"\"retorna la cadena del parametro sin acentos, en minuscula y quita espacios al principio o fin de la cadena\"\"\"\n",
    "    a,b = 'áéíóúüÁÉÍÓÚÜ','aeiouuAEIOUU'\n",
    "    trans = str.maketrans(a,b)\n",
    "    try:\n",
    "        #quitamos acentos, espacios el inicio o final, y pasamos todo a minusculas\n",
    "        text_normalized = text.translate(trans).lower().strip()\n",
    "        #algunos regimenes diferian entre si por un punto al final del texto, por eso si un regimen termina con punto se le quita\n",
    "        if text_normalized[-1] == '.':\n",
    "            text_normalized = text_normalized[:-1]\n",
    "        #algunas caracteres ascci se escapaban aún así, causado por los acentos por eso se quitan según sea necesario\n",
    "        text_normalized =  text_normalized.replace('ã‰','e').replace('ã©','e').replace('ã','i').replace('ã“','o').replace('â€','').replace('â€œ','')\n",
    "    except:\n",
    "        #print(f\"error normalizando: {text}\")\n",
    "        text_normalized = \"Error\"\n",
    "    return text_normalized"
   ]
  },
  {
   "cell_type": "code",
   "execution_count": 14,
   "metadata": {},
   "outputs": [],
   "source": [
    "def clasificar(row):\n",
    "    \"\"\"\n",
    "    try to classify whether descripcion_comercial has name(N), brand(M), name and brand(NM),\n",
    "    or if doesn't have name or brand(SN)\"\"\"\n",
    "    try:\n",
    "        for nombre in nombres_medicamentos:\n",
    "            if nombre in row['descripcion_comercial']:\n",
    "                for marca in marcas_medicamentos:\n",
    "                    if marca in row['descripcion_comercial']:\n",
    "                        return ['NM',nombre,marca]\n",
    "                return ['N',nombre,'sin marca']\n",
    "\n",
    "        for marca in marcas_medicamentos:\n",
    "            if marca in row['descripcion_comercial']:\n",
    "                return ['M','sin nombre',marca]\n",
    "\n",
    "        return ['SN','sin nombre','sin marca']\n",
    "        \n",
    "    except Exception as e:\n",
    "        print(e)\n",
    "        return 'ERROR'"
   ]
  },
  {
   "cell_type": "markdown",
   "metadata": {},
   "source": [
    "### Cleaning and renaming columnas(Normalización Data)"
   ]
  },
  {
   "cell_type": "code",
   "execution_count": 8,
   "metadata": {},
   "outputs": [],
   "source": [
    "#Se borran columnas que no se ocupan en imports\n",
    "imports.drop(columns=['Descripcion Partida Aduanera','NroSerie','Cod. Tributario', 'Ciudad Importador', 'Dirección Importador', 'Estado Importador','Ciudad Exportador', \n",
    "                        'Dirección Exportador', 'Qty 1','Unid 1','U$ FOB Unit 1'], inplace=True)"
   ]
  },
  {
   "cell_type": "code",
   "execution_count": 9,
   "metadata": {},
   "outputs": [],
   "source": [
    "#renombro columnas para clarificar un poco más el nombre(aprovechando quito acentos y espacios)\n",
    "imports.rename(columns={'Qty 2':'unidades',\n",
    "                        'Unid 2':'tipo_unidad',\n",
    "                        'U$ FOB Tot':'valor_total',\n",
    "                        'U$ FOB Unit 2':'valor_unitario',\n",
    "                        'País Origen':'pais_origen',\n",
    "                        'Pais de Compra':'pais_compra',\n",
    "                        'Vía':'via',\n",
    "                        'Descripción Comercial':'descripcion_comercial'}, inplace=True)"
   ]
  },
  {
   "cell_type": "code",
   "execution_count": null,
   "metadata": {},
   "outputs": [],
   "source": [
    "#se normalizan las columnas, minusculas, sin acentos y sin espacios al principio ni al final\n",
    "imports['pais_compra_h'] = imports['pais_compra'].apply(normalizar)\n",
    "imports['pais_origen_h'] = imports['pais_origen'].apply(normalizar)\n",
    "imports['regimen_h'] = imports['Regimen'].apply(normalizar_regimen)\n",
    "imports['descripcion_comercial'] = imports['descripcion_comercial'].apply(normalizar)"
   ]
  },
  {
   "cell_type": "markdown",
   "metadata": {},
   "source": [
    "### Match y clasificacion nombre_y_marca"
   ]
  },
  {
   "cell_type": "code",
   "execution_count": 11,
   "metadata": {},
   "outputs": [],
   "source": [
    "#creo dos sets de nombre y marca de medicamentps, set para evitar duplicados y acelerar la detección\n",
    "nombres_medicamentos = set(medicines['MEDICAMENTO'].apply(normalizar))#73 nombres\n",
    "marcas_medicamentos = set(medicines['NOMBRE COMERCIAL'].apply(normalizar))#111 marcas"
   ]
  },
  {
   "cell_type": "code",
   "execution_count": 15,
   "metadata": {},
   "outputs": [],
   "source": [
    "#clasifico si tiene nombre, marca, ambos o ninguno, agrego nombre y marca en columnas separadas\n",
    "imports[['nombre_y_marca','nombre','marca']] = imports.apply(clasificar,axis=1,result_type='expand')"
   ]
  },
  {
   "cell_type": "code",
   "execution_count": 19,
   "metadata": {},
   "outputs": [],
   "source": [
    "matched_imports = imports.loc[(imports['nombre_y_marca'] == 'N') | (imports['nombre_y_marca'] == 'M') | (imports['nombre_y_marca'] == 'NM')].copy()"
   ]
  },
  {
   "cell_type": "code",
   "execution_count": null,
   "metadata": {},
   "outputs": [],
   "source": [
    "matched_imports.head(2)"
   ]
  },
  {
   "cell_type": "code",
   "execution_count": 21,
   "metadata": {},
   "outputs": [],
   "source": [
    "matched_imports.reset_index(drop=True, inplace=True)"
   ]
  },
  {
   "cell_type": "code",
   "execution_count": 22,
   "metadata": {},
   "outputs": [],
   "source": [
    "matched_imports.drop(columns=['pais_origen', 'pais_compra','DUA','Aduana','Regimen'], inplace=True)"
   ]
  },
  {
   "cell_type": "code",
   "execution_count": 23,
   "metadata": {},
   "outputs": [],
   "source": [
    "matched_imports.to_csv('matched_imports.csv',encoding='utf-8',index=False)"
   ]
  }
 ],
 "metadata": {
  "interpreter": {
   "hash": "528daa9c17e0838872f5230eb6041b8593cbc499262be974ac852737f566656b"
  },
  "kernelspec": {
   "display_name": "Python 3.9.0 ('entorno': venv)",
   "language": "python",
   "name": "python3"
  },
  "language_info": {
   "codemirror_mode": {
    "name": "ipython",
    "version": 3
   },
   "file_extension": ".py",
   "mimetype": "text/x-python",
   "name": "python",
   "nbconvert_exporter": "python",
   "pygments_lexer": "ipython3",
   "version": "3.9.0"
  },
  "orig_nbformat": 4
 },
 "nbformat": 4,
 "nbformat_minor": 2
}
