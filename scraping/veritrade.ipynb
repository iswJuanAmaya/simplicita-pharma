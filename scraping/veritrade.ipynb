{
 "cells": [
  {
   "cell_type": "code",
   "execution_count": 4,
   "metadata": {},
   "outputs": [
    {
     "data": {
      "text/plain": [
       "<Response [200]>"
      ]
     },
     "execution_count": 4,
     "metadata": {},
     "output_type": "execute_result"
    }
   ],
   "source": [
    "import requests\n",
    "\n",
    "cookies = {\n",
    "    '_gid': 'GA1.2.93630179.1652195173',\n",
    "    '_hjSessionUser_1979865': 'eyJpZCI6IjI1MjVjZTk0LTc0ODQtNTA1Yi1iNWZiLTA2YWVhMmNlNmVhZSIsImNyZWF0ZWQiOjE2NTIxOTUxNzQ3NjMsImV4aXN0aW5nIjp0cnVlfQ==',\n",
    "    'ASP.NET_SessionId': 'yhecb2gmhbd0afonvjcs2hzy',\n",
    "    'XT': '333872',\n",
    "    '_ga': 'GA1.2.2016629818.1652195173',\n",
    "    '_hjSession_1979865': 'eyJpZCI6IjBlMzkxYzI2LTAxYTgtNDMyYi05MzcyLWQ0OWRhNDI4ZjQ2NCIsImNyZWF0ZWQiOjE2NTIyMDUyMTc4OTEsImluU2FtcGxlIjpmYWxzZX0=',\n",
    "    '_hjAbsoluteSessionInProgress': '0',\n",
    "    'Mb': '1',\n",
    "    'OcultarVideo_id333872': '2',\n",
    "    '_ga_MGGRXWDYK3': 'GS1.1.1652205216.3.1.1652205831.0',\n",
    "    'mp_24afa81fa167622c3b101ea05504ec68_mixpanel': '%7B%22distinct_id%22%3A%20%22333872%22%2C%22%24device_id%22%3A%20%22180aef209f9267-086dcbffc1c1c-17333273-1fa400-180aef209fa3e7%22%2C%22%24user_id%22%3A%20%22333872%22%2C%22%24initial_referrer%22%3A%20%22https%3A%2F%2Fwww.veritradecorp.com%2F%22%2C%22%24initial_referring_domain%22%3A%20%22www.veritradecorp.com%22%7D',\n",
    "    'sl': '',\n",
    "}\n",
    "\n",
    "headers = {\n",
    "    'authority': 'business2.veritradecorp.com',\n",
    "    'accept': '*/*',\n",
    "    'accept-language': 'es-419,es;q=0.9,es-MX;q=0.8,en;q=0.7',\n",
    "    'content-type': 'application/x-www-form-urlencoded; charset=UTF-8',\n",
    "    # Requests sorts cookies= alphabetically\n",
    "    # 'cookie': '_gid=GA1.2.93630179.1652195173; _hjSessionUser_1979865=eyJpZCI6IjI1MjVjZTk0LTc0ODQtNTA1Yi1iNWZiLTA2YWVhMmNlNmVhZSIsImNyZWF0ZWQiOjE2NTIxOTUxNzQ3NjMsImV4aXN0aW5nIjp0cnVlfQ==; ASP.NET_SessionId=yhecb2gmhbd0afonvjcs2hzy; XT=333872; _ga=GA1.2.2016629818.1652195173; _hjSession_1979865=eyJpZCI6IjBlMzkxYzI2LTAxYTgtNDMyYi05MzcyLWQ0OWRhNDI4ZjQ2NCIsImNyZWF0ZWQiOjE2NTIyMDUyMTc4OTEsImluU2FtcGxlIjpmYWxzZX0=; _hjAbsoluteSessionInProgress=0; Mb=1; OcultarVideo_id333872=2; _ga_MGGRXWDYK3=GS1.1.1652205216.3.1.1652205831.0; mp_24afa81fa167622c3b101ea05504ec68_mixpanel=%7B%22distinct_id%22%3A%20%22333872%22%2C%22%24device_id%22%3A%20%22180aef209f9267-086dcbffc1c1c-17333273-1fa400-180aef209fa3e7%22%2C%22%24user_id%22%3A%20%22333872%22%2C%22%24initial_referrer%22%3A%20%22https%3A%2F%2Fwww.veritradecorp.com%2F%22%2C%22%24initial_referring_domain%22%3A%20%22www.veritradecorp.com%22%7D; sl=',\n",
    "    'origin': 'https://business2.veritradecorp.com',\n",
    "    'referer': 'https://business2.veritradecorp.com/es/mis-busquedas',\n",
    "    'sec-ch-ua': '\" Not A;Brand\";v=\"99\", \"Chromium\";v=\"101\", \"Google Chrome\";v=\"101\"',\n",
    "    'sec-ch-ua-mobile': '?0',\n",
    "    'sec-ch-ua-platform': '\"Windows\"',\n",
    "    'sec-fetch-dest': 'empty',\n",
    "    'sec-fetch-mode': 'cors',\n",
    "    'sec-fetch-site': 'same-origin',\n",
    "    'user-agent': 'Mozilla/5.0 (Windows NT 10.0; Win64; x64) AppleWebKit/537.36 (KHTML, like Gecko) Chrome/101.0.4951.54 Safari/537.36',\n",
    "    'x-requested-with': 'XMLHttpRequest',\n",
    "}\n",
    "\n",
    "data = {\n",
    "    'tipoOpe': 'I',\n",
    "    'codPais': 'AR',\n",
    "    'id': '224186425',\n",
    "}\n",
    "\n",
    "response = requests.post('https://business2.veritradecorp.com/es/mis-busquedas/VerDetalleExcelById', cookies=cookies, headers=headers, data=data)\n",
    "response"
   ]
  },
  {
   "cell_type": "code",
   "execution_count": 5,
   "metadata": {},
   "outputs": [],
   "source": [
    "with open(\"prueba.pdf\",\"wb\") as doc:\n",
    "    doc.write(response.content)"
   ]
  }
 ],
 "metadata": {
  "interpreter": {
   "hash": "af522f54b07c7f3c18cf9811c63a5ae971c77fc94befd985227ce93a60065417"
  },
  "kernelspec": {
   "display_name": "Python 3.9.0 64-bit",
   "language": "python",
   "name": "python3"
  },
  "language_info": {
   "codemirror_mode": {
    "name": "ipython",
    "version": 3
   },
   "file_extension": ".py",
   "mimetype": "text/x-python",
   "name": "python",
   "nbconvert_exporter": "python",
   "pygments_lexer": "ipython3",
   "version": "3.9.0"
  },
  "orig_nbformat": 4
 },
 "nbformat": 4,
 "nbformat_minor": 2
}
