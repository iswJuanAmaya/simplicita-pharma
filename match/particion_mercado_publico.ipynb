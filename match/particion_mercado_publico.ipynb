{
 "cells": [
  {
   "cell_type": "code",
   "execution_count": 1,
   "metadata": {},
   "outputs": [],
   "source": [
    "import pandas as pd\n",
    "import numpy as np"
   ]
  },
  {
   "cell_type": "code",
   "execution_count": 15,
   "metadata": {},
   "outputs": [],
   "source": [
    "ruta_medicamentos = 'C:/Users/juan-/Downloads/pharma/Bases/20220301_Mercado Publico Completo_2015-2021.xlsx'\n",
    "MedicamentosDB = pd.read_excel(ruta_medicamentos, sheet_name='2022')"
   ]
  },
  {
   "cell_type": "code",
   "execution_count": 22,
   "metadata": {},
   "outputs": [],
   "source": [
    "MedicamentosDB[0:10000].to_csv('C:/Users/juan-/Downloads/pharma/Bases/Mercado_publico_2022.csv')"
   ]
  }
 ],
 "metadata": {
  "interpreter": {
   "hash": "528daa9c17e0838872f5230eb6041b8593cbc499262be974ac852737f566656b"
  },
  "kernelspec": {
   "display_name": "Python 3.9.0 ('entorno': venv)",
   "language": "python",
   "name": "python3"
  },
  "language_info": {
   "codemirror_mode": {
    "name": "ipython",
    "version": 3
   },
   "file_extension": ".py",
   "mimetype": "text/x-python",
   "name": "python",
   "nbconvert_exporter": "python",
   "pygments_lexer": "ipython3",
   "version": "3.9.0"
  },
  "orig_nbformat": 4
 },
 "nbformat": 4,
 "nbformat_minor": 2
}
