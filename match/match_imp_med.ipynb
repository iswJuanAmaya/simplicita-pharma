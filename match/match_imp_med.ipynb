{
 "cells": [
  {
   "cell_type": "code",
   "execution_count": 1,
   "metadata": {},
   "outputs": [],
   "source": [
    "import pandas as pd\n",
    "import numpy as np"
   ]
  },
  {
   "cell_type": "code",
   "execution_count": 2,
   "metadata": {},
   "outputs": [],
   "source": [
    "imports = pd.read_csv('cp.csv')"
   ]
  },
  {
   "cell_type": "code",
   "execution_count": 3,
   "metadata": {},
   "outputs": [],
   "source": [
    "#las borro para quitar columnas visualmente.\n",
    "imports.drop(columns=['tipoI','tipoII'],inplace=True)"
   ]
  },
  {
   "cell_type": "code",
   "execution_count": 4,
   "metadata": {},
   "outputs": [],
   "source": [
    "ruta_medicamentos = 'medicamentosHomologado.csv'\n",
    "medicines = pd.read_csv(ruta_medicamentos)"
   ]
  },
  {
   "cell_type": "code",
   "execution_count": 5,
   "metadata": {},
   "outputs": [],
   "source": [
    "#creacion de columnas para ir detectando cambios y más\n",
    "imports['cnis'] = ''\n",
    "imports['status_medicamento'] = ''\n",
    "imports['empresa'] = ''\n",
    "imports['unidosis'] = ''\n",
    "imports['c_r_c_llenado_datos'] = ''"
   ]
  },
  {
   "cell_type": "code",
   "execution_count": null,
   "metadata": {},
   "outputs": [],
   "source": [
    "#retorna info relevante de medicamentos segun su NOMBRE y MARCA\n",
    "medicines[['CONCENTRACION','UNIDAD CONCENTRACION','PRESENTACION','FORMA FARMA']][ (medicines['MEDICAMENTO'] == 'ruxolitinib' ) & (medicines['NOMBRE COMERCIAL']=='jakavi') ]"
   ]
  },
  {
   "cell_type": "code",
   "execution_count": null,
   "metadata": {},
   "outputs": [],
   "source": [
    "#retorna info relevante de medicamentos segun su NOMBRE \n",
    "medicines[['CONCENTRACION','UNIDAD CONCENTRACION','FORMA FARMA','MEDICAMENTO','NOMBRE COMERCIAL']][ medicines['MEDICAMENTO'] == 'everolimus' ]"
   ]
  },
  {
   "cell_type": "code",
   "execution_count": 6,
   "metadata": {},
   "outputs": [],
   "source": [
    "#es necesario porque concentracion era float64 y le agregaba .0 a los numeros enteros y un 0.5 lo hacia 0\n",
    "imports['concentracion'] =  imports['concentracion'].astype(str).str.replace(\".0\",\"\",regex=False)"
   ]
  },
  {
   "cell_type": "markdown",
   "metadata": {},
   "source": [
    "## funciones"
   ]
  },
  {
   "cell_type": "code",
   "execution_count": 7,
   "metadata": {},
   "outputs": [],
   "source": [
    "def match_imports_medicine(imp_row: pd.Series) -> list:\n",
    "    \"\"\" \n",
    "    receive a row of imports, will try to do a match in base of \n",
    "    nombre,marca and presentation of medicine in cuestion between \n",
    "    imports and medicines dataframes.\"\"\"\n",
    "    #checamos si hace match perfecto(nombre,marca,presentacion etc)\n",
    "    primer_intento =  medicines[(medicines['MEDICAMENTO']==imp_row['nombre']) & \n",
    "                                (medicines['NOMBRE COMERCIAL']==imp_row['marca']) &\n",
    "                                (medicines['CONCENTRACION']==imp_row['concentracion']) & \n",
    "                                (medicines['UNIDAD CONCENTRACION']==imp_row['unidad_concentracion']) & \n",
    "                                (medicines['PRESENTACION']==imp_row['presentacion']) & \n",
    "                                (medicines['FORMA FARMA']==imp_row['forma_farma']) ].to_dict('records')\n",
    "    if len(primer_intento) > 0:\n",
    "        #print(f\"match perfecto {len(primer_intento)}\")\n",
    "        return (imp_row['nombre'], imp_row['marca'], imp_row['descripcion_comercial'],imp_row['presentacion'],\n",
    "                imp_row['forma_farma'], imp_row['concentracion'], imp_row['unidad_concentracion'],\n",
    "                primer_intento[0]['EMPRESA'], primer_intento[0]['CONCENTRACION'], primer_intento[0]['UNIDAD CONCENTRACION'],\n",
    "                primer_intento[0]['PRESENTACION'], primer_intento[0]['FORMA FARMA'], primer_intento[0]['CNIS'], primer_intento[0]['STATUS'],'perfect match')\n",
    "    \n",
    "    #si no hizo match perfecto hay que ver que le falta y cuantos match con el mayor numero de coincidencias hace\n",
    "    df_dict = medicines[ (medicines['MEDICAMENTO']==imp_row['nombre']) & (medicines['NOMBRE COMERCIAL']==imp_row['marca']) ].to_dict('records')\n",
    "    if len(df_dict) == 0:\n",
    "        print(f\"sin match para{imp_row['nombre']}, {imp_row['marca']}\")\n",
    "        return (imp_row['nombre'], imp_row['marca'], imp_row['descripcion_comercial'],imp_row['presentacion'],\n",
    "                imp_row['forma_farma'], imp_row['concentracion'], imp_row['unidad_concentracion'],None,None,None,None,None,None,None,'sin match')\n",
    "    \n",
    "    matches = 0 # número de matches entre imports y medicamentos con el mismo numero de coincidencias\n",
    "    coincidencias = 0 #coincidencia entre imports y medicamentos en sus columnas, concentracion,unidad_concentracion, presentacion, forma farma\n",
    "    medicine_match = '' #\n",
    "    for medic in df_dict:\n",
    "        contador = 0\n",
    "        if medic['CONCENTRACION'] == imp_row['concentracion']:\n",
    "            contador +=1 \n",
    "        if medic['UNIDAD CONCENTRACION'] == imp_row['unidad_concentracion']:\n",
    "            contador +=1\n",
    "        if medic['PRESENTACION'] == imp_row['presentacion']:\n",
    "            contador +=1\n",
    "        if medic['FORMA FARMA'] == imp_row['forma_farma']:\n",
    "            contador += 1\n",
    "\n",
    "        #si hay coincidencias y es mayor en numero de estas que el match anterior(en caso de que halla)\n",
    "        if contador > coincidencias:\n",
    "            coincidencias = contador\n",
    "            matches = 1     \n",
    "            medicine_match =str(medic['PRESENTACION']) +  medic['FORMA FARMA'] + str(medic['CONCENTRACION']) + medic['UNIDAD CONCENTRACION']\n",
    "        #si existen las mismas coincidencias que el match anterior \n",
    "        elif contador > 0 and contador == coincidencias:\n",
    "            matches += 1    \n",
    "            medicine_match += \" || \" + str(medic['PRESENTACION']) +  medic['FORMA FARMA'] + str(medic['CONCENTRACION']) + medic['UNIDAD CONCENTRACION']\n",
    "\n",
    "    c_r_c = f\"{coincidencias} coincidencias en {matches} matches: {medicine_match}\"\n",
    "    return (imp_row['nombre'], imp_row['marca'], imp_row['descripcion_comercial'],imp_row['presentacion'],\n",
    "            imp_row['forma_farma'], imp_row['concentracion'], imp_row['unidad_concentracion'],None,None,None,None,None,None,None,c_r_c)"
   ]
  },
  {
   "cell_type": "markdown",
   "metadata": {},
   "source": [
    "## match"
   ]
  },
  {
   "cell_type": "code",
   "execution_count": 9,
   "metadata": {},
   "outputs": [],
   "source": [
    "imports[imports['nombre_y_marca']=='NM'].apply(match_imports_medicine, axis=1, result_type='expand').to_csv('final_match.csv')"
   ]
  },
  {
   "cell_type": "code",
   "execution_count": null,
   "metadata": {},
   "outputs": [],
   "source": [
    "#prueba para buscar el match perfecto\n",
    "medicines[(medicines['MEDICAMENTO']=='dabrafenib') & \n",
    "        (medicines['NOMBRE COMERCIAL']=='tafinlar') &\n",
    "        (medicines['CONCENTRACION']=='75') & \n",
    "        (medicines['UNIDAD CONCENTRACION']=='mg') & \n",
    "        (medicines['PRESENTACION']=='28') & \n",
    "        (medicines['FORMA FARMA']=='capsulas') ]\n",
    "                                "
   ]
  },
  {
   "cell_type": "markdown",
   "metadata": {},
   "source": [
    "### match perfecto (para probar)"
   ]
  },
  {
   "cell_type": "code",
   "execution_count": 34,
   "metadata": {},
   "outputs": [],
   "source": [
    "def perfect_match_imports_medicine(imp_row: pd.Series) -> list:\n",
    "    \"\"\" para generar la primera version de match perfectos para prueba\"\"\"\n",
    "    #checamos si hace match perfecto(nombre,marca,presentacion etc)\n",
    "    primer_intento =  medicines[(medicines['MEDICAMENTO']==imp_row['nombre']) & \n",
    "                                (medicines['NOMBRE COMERCIAL']==imp_row['marca']) &\n",
    "                                (medicines['CONCENTRACION']==imp_row['concentracion']) & \n",
    "                                (medicines['UNIDAD CONCENTRACION']==imp_row['unidad_concentracion']) & \n",
    "                                (medicines['PRESENTACION']==imp_row['presentacion']) & \n",
    "                                (medicines['FORMA FARMA']==imp_row['forma_farma']) ].to_dict('records')\n",
    "    if len(primer_intento) > 0:\n",
    "        return (primer_intento[0]['EMPRESA'],  primer_intento[0]['CNIS'], primer_intento[0]['STATUS'],primer_intento[0]['UNIDOSIS'], 'perfect match')\n",
    "    else:\n",
    "        return (None,None,None,None,'sin match perfecto')"
   ]
  },
  {
   "cell_type": "code",
   "execution_count": 31,
   "metadata": {},
   "outputs": [],
   "source": [
    "complete_imports = pd.read_csv('cp_complete.csv')"
   ]
  },
  {
   "cell_type": "code",
   "execution_count": 32,
   "metadata": {},
   "outputs": [],
   "source": [
    "complete_imports['concentracion'] =  complete_imports['concentracion'].astype(str).str.replace(\".0\",\"\",regex=False)"
   ]
  },
  {
   "cell_type": "code",
   "execution_count": 35,
   "metadata": {},
   "outputs": [],
   "source": [
    "complete_imports[['empresa','cnis','status_medicamento', 'unidosis','c_r_c_llenado_datos']] = complete_imports[complete_imports['nombre_y_marca']=='NM'].apply(perfect_match_imports_medicine, axis=1, result_type='expand').copy()"
   ]
  },
  {
   "cell_type": "code",
   "execution_count": 36,
   "metadata": {},
   "outputs": [],
   "source": [
    "complete_imports[complete_imports['c_r_c_llenado_datos']=='perfect match'].to_csv('perfect_match_v1.csv')"
   ]
  }
 ],
 "metadata": {
  "interpreter": {
   "hash": "528daa9c17e0838872f5230eb6041b8593cbc499262be974ac852737f566656b"
  },
  "kernelspec": {
   "display_name": "Python 3.9.0 ('entorno': venv)",
   "language": "python",
   "name": "python3"
  },
  "language_info": {
   "codemirror_mode": {
    "name": "ipython",
    "version": 3
   },
   "file_extension": ".py",
   "mimetype": "text/x-python",
   "name": "python",
   "nbconvert_exporter": "python",
   "pygments_lexer": "ipython3",
   "version": "3.9.0"
  },
  "orig_nbformat": 4
 },
 "nbformat": 4,
 "nbformat_minor": 2
}
