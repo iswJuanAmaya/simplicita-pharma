{
 "cells": [
  {
   "cell_type": "code",
   "execution_count": 2,
   "metadata": {},
   "outputs": [],
   "source": [
    "import pandas as pd\n",
    "import numpy as np"
   ]
  },
  {
   "cell_type": "code",
   "execution_count": 3,
   "metadata": {},
   "outputs": [],
   "source": [
    "ruta_medicamentos = 'C:/Users/juan-/Downloads/pharma/Bases/20220617_MEDICAMENTOS ONCOLOGICOS BIOLOGICOS_V0.5.xlsx'\n",
    "MedicamentosDB = pd.read_excel(ruta_medicamentos, sheet_name='BIOLOGICOS')"
   ]
  },
  {
   "cell_type": "code",
   "execution_count": 4,
   "metadata": {},
   "outputs": [],
   "source": [
    "def normalizar(text: str) -> str:\n",
    "    \"\"\"retorna la cadena del parametro sin acentos, en minuscula y quita espacios al principio o fin de la cadena\"\"\"\n",
    "    a,b = 'áéíóúüÁÉÍÓÚÜ','aeiouuAEIOUU'\n",
    "    trans = str.maketrans(a,b)\n",
    "    try:\n",
    "        text_normalized = text.translate(trans).lower().strip()\n",
    "    except:\n",
    "        print(f\"error normalizando: {text}\")\n",
    "        text_normalized = \"Error\"\n",
    "    return text_normalized"
   ]
  },
  {
   "cell_type": "code",
   "execution_count": 5,
   "metadata": {},
   "outputs": [],
   "source": [
    "MedicamentosDB['MEDICAMENTO'] = MedicamentosDB['MEDICAMENTO'].apply(normalizar)\n",
    "MedicamentosDB['NOMBRE COMERCIAL'] = MedicamentosDB['NOMBRE COMERCIAL'].apply(normalizar)\n",
    "MedicamentosDB['FORMA FARMA'] = MedicamentosDB['FORMA FARMA'].apply(normalizar)"
   ]
  },
  {
   "cell_type": "code",
   "execution_count": 6,
   "metadata": {},
   "outputs": [],
   "source": [
    "MedicamentosDB.to_csv('medicamentosHomologado.csv')"
   ]
  }
 ],
 "metadata": {
  "kernelspec": {
   "display_name": "Python 3.9.0 ('entorno': venv)",
   "language": "python",
   "name": "python3"
  },
  "language_info": {
   "codemirror_mode": {
    "name": "ipython",
    "version": 3
   },
   "file_extension": ".py",
   "mimetype": "text/x-python",
   "name": "python",
   "nbconvert_exporter": "python",
   "pygments_lexer": "ipython3",
   "version": "3.9.0"
  },
  "orig_nbformat": 4,
  "vscode": {
   "interpreter": {
    "hash": "528daa9c17e0838872f5230eb6041b8593cbc499262be974ac852737f566656b"
   }
  }
 },
 "nbformat": 4,
 "nbformat_minor": 2
}
